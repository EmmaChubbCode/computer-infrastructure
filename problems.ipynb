{
 "cells": [
  {
   "cell_type": "markdown",
   "id": "bab12eae",
   "metadata": {},
   "source": [
    "# Assessment for Computer Infrastructure"
   ]
  },
  {
   "cell_type": "markdown",
   "id": "1ef31c70",
   "metadata": {},
   "source": [
    "## Problem 1: \n",
    "Using the yfinance Python package, write a function called get_data() that downloads all hourly data for the previous five days for the five FAANG stocks."
   ]
  },
  {
   "cell_type": "markdown",
   "id": "19b7dd24",
   "metadata": {},
   "source": [
    "According to the [documentation](https://pypi.org/project/yfinance/), yfinance \"offers a Pythonic way to fetch financial & market data from Yahoo!Ⓡ finance\""
   ]
  },
  {
   "cell_type": "code",
   "execution_count": null,
   "id": "b3caccd1",
   "metadata": {},
   "outputs": [],
   "source": [
    "# import\n",
    "import yfinance as yf\n"
   ]
  },
  {
   "cell_type": "markdown",
   "id": "fb41f301",
   "metadata": {},
   "source": [
    "Next, import the os module. This [module](https://docs.python.org/3/library/os.html) allows you to interact with the operating system, for example when creating or managing files or directories."
   ]
  },
  {
   "cell_type": "code",
   "execution_count": null,
   "id": "e166c093",
   "metadata": {},
   "outputs": [],
   "source": [
    " # import os\n",
    "import os"
   ]
  },
  {
   "cell_type": "markdown",
   "id": "67bfb46d",
   "metadata": {},
   "source": [
    "In order to create a file name with a date or time, we need the [datetime](https://www.geeksforgeeks.org/python/how-to-create-filename-containing-date-or-time-in-python/) module. "
   ]
  },
  {
   "cell_type": "code",
   "execution_count": null,
   "id": "0fa4a176",
   "metadata": {},
   "outputs": [],
   "source": [
    "# import datetime\n",
    "from datetime import datetime "
   ]
  },
  {
   "cell_type": "markdown",
   "id": "4d5f9e49",
   "metadata": {},
   "source": [
    "This code is a quick check on the method of getting the datetime in the right format. Leave it commented out unless you want to carry out the check. "
   ]
  },
  {
   "cell_type": "code",
   "execution_count": null,
   "id": "b3b95951",
   "metadata": {},
   "outputs": [
    {
     "name": "stdout",
     "output_type": "stream",
     "text": [
      "20251026-193446\n"
     ]
    }
   ],
   "source": [
    "#current_datetime = datetime.now().strftime(\"%Y%m%d-%H%M%S\")\n",
    "#print(current_datetime)"
   ]
  },
  {
   "cell_type": "markdown",
   "id": "4bbfb022",
   "metadata": {},
   "source": [
    "Next, build a function that that downloads all hourly data for the previous five days for the five FAANG stocks: Meta, Apple, Amazon, Netflix, and Google.The function will save the data into a folder called data in the root of my repository using a filename with the format YYYYMMDD-HHmmss.csv"
   ]
  },
  {
   "cell_type": "code",
   "execution_count": 20,
   "id": "2e223f01",
   "metadata": {},
   "outputs": [],
   "source": [
    "# create a function as per https://www.geeksforgeeks.org/python/python-functions/ \n",
    "def get_data():\n",
    "\n",
    "    # Access multiple tickers as per documentation (https://ranaroussi.github.io/yfinance/reference/index.html).\n",
    "    # adapted code on importing historical data from here: https://rowzero.io/blog/yfinance \n",
    "    # specific valid intervals found here: https://medium.com/@anjalivemuri97/day-4-fetching-historical-stock-data-with-yfinance-f45f3bd8b9c6 \n",
    "    data = yf.download(\"META AAPL AMZN NFLX GOOG\", group_by='tickers', period=\"5d\", interval='1h')\n",
    "\n",
    "    #create the time stamp that can dynamically name the file (tested above).\n",
    "    current_datetime = datetime.now().strftime(\"%Y%m%d-%H%M%S\")\n",
    "\n",
    "    # convert the output into a string so we can use it in a file name.\n",
    "    current_datetime_str = str(current_datetime)\n",
    "\n",
    "    # name the file with .csv extension so it saves as a csv file.\n",
    "    file_name = current_datetime_str+\".csv\"\n",
    "\n",
    "    # create a folder in the current working directory - see: https://www.w3schools.com/python/ref_os_getcwd.asp \n",
    "    dir = os.path.join(os.getcwd(), \"data\")\n",
    "    \n",
    "    # make a nested directory and any necessary intermediary directories see: https://note.nkmk.me/en/python-os-mkdir-makedirs/.\n",
    "    # the second parameter checks it doesn't already exist. see: https://docs.python.org/3/library/os.html#os.makedirs \n",
    "    os.makedirs(dir, exist_ok=True)\n",
    "\n",
    "    # create a path using os path join which concatenates the file path and the filename and saves it to file_path (see: https://blog.finxter.com/how-to-save-a-text-file-to-another-folder-in-python/)\n",
    "    file_path = os.path.join(dir, file_name)\n",
    "    \n",
    "    # save df to a csv: https://www.geeksforgeeks.org/pandas/saving-a-pandas-dataframe-as-a-csv/ \n",
    "    data.to_csv(file_path)\n",
    "# need to return something and this might be what i need for next problem (testing it out)\n",
    "    return dir\n",
    "    "
   ]
  },
  {
   "cell_type": "code",
   "execution_count": null,
   "id": "ae36ab83",
   "metadata": {},
   "outputs": [
    {
     "name": "stderr",
     "output_type": "stream",
     "text": [
      "/tmp/ipykernel_2038/3553598964.py:7: FutureWarning: YF.download() has changed argument auto_adjust default to True\n",
      "  data = yf.download(\"META AAPL AMZN NFLX GOOG\", group_by='tickers', period=\"5d\", interval='1h')\n",
      "[*********************100%***********************]  5 of 5 completed\n",
      "/tmp/ipykernel_2038/3553598964.py:7: FutureWarning: YF.download() has changed argument auto_adjust default to True\n",
      "  data = yf.download(\"META AAPL AMZN NFLX GOOG\", group_by='tickers', period=\"5d\", interval='1h')\n",
      "[*********************100%***********************]  5 of 5 completed"
     ]
    },
    {
     "name": "stdout",
     "output_type": "stream",
     "text": [
      "/workspaces/computer-infrastructure/data\n"
     ]
    },
    {
     "name": "stderr",
     "output_type": "stream",
     "text": [
      "\n"
     ]
    }
   ],
   "source": [
    "# the function returns the directory - put that in data so i can easily engage with the directory. \n",
    "data = get_data()\n",
    "# check it returns something (i.e doesn't say None)\n",
    "print(data)"
   ]
  },
  {
   "cell_type": "markdown",
   "id": "79ae58e0",
   "metadata": {},
   "source": [
    "## Problem 2: Plotting Data"
   ]
  },
  {
   "cell_type": "markdown",
   "id": "e041be72",
   "metadata": {},
   "source": [
    "Write a function called plot_data() that opens the latest data file in the data folder and, on one plot, plots the Close prices for each of the five stocks. The plot should include axis labels, a legend, and the date as a title. The function should save the plot into a plots folder in the root of your repository using a filename in the format YYYYMMDD-HHmmss.png. Create the plots folder if you don't already have one."
   ]
  },
  {
   "cell_type": "code",
   "execution_count": null,
   "id": "10a444da",
   "metadata": {},
   "outputs": [
    {
     "data": {
      "text/plain": [
       "['20251026-201854.csv',\n",
       " '20251026-202145.csv',\n",
       " '20251026-201721.csv',\n",
       " '20251026-193447.csv',\n",
       " '20251026-201918.csv',\n",
       " '20251026-201720.csv',\n",
       " '20251014-205722.csv',\n",
       " '20251026-202146.csv']"
      ]
     },
     "execution_count": 23,
     "metadata": {},
     "output_type": "execute_result"
    }
   ],
   "source": [
    "os.listdir(data)"
   ]
  },
  {
   "cell_type": "markdown",
   "id": "38c12e52",
   "metadata": {},
   "source": [
    "heck this for how to get modification time, then I'll figure out how to get max modification time to get most recent file. https://www.geeksforgeeks.org/python/python-os-path-getmtime-method/"
   ]
  }
 ],
 "metadata": {
  "kernelspec": {
   "display_name": "Python 3",
   "language": "python",
   "name": "python3"
  },
  "language_info": {
   "codemirror_mode": {
    "name": "ipython",
    "version": 3
   },
   "file_extension": ".py",
   "mimetype": "text/x-python",
   "name": "python",
   "nbconvert_exporter": "python",
   "pygments_lexer": "ipython3",
   "version": "3.12.1"
  }
 },
 "nbformat": 4,
 "nbformat_minor": 5
}
