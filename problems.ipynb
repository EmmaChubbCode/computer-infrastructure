{
 "cells": [
  {
   "cell_type": "markdown",
   "id": "bab12eae",
   "metadata": {},
   "source": [
    "# Assessment for Computer Infrastructure"
   ]
  },
  {
   "cell_type": "markdown",
   "id": "1ef31c70",
   "metadata": {},
   "source": [
    "## Problem 1: \n",
    "### Using the yfinance Python package, write a function called get_data() that downloads all hourly data for the previous five days for the five FAANG stocks."
   ]
  },
  {
   "cell_type": "markdown",
   "id": "b14f16c0",
   "metadata": {},
   "source": [
    "### As a first step, I created a folder called 'data' in my repository using the mkdir command in the terminal. See: https://how.dev/answers/how-to-add-a-folder-to-a-repository-in-github "
   ]
  },
  {
   "cell_type": "code",
   "execution_count": null,
   "id": "b3caccd1",
   "metadata": {},
   "outputs": [],
   "source": [
    "# Yahoo Finance data.\n",
    "import yfinance as yf\n"
   ]
  },
  {
   "cell_type": "code",
   "execution_count": null,
   "id": "e166c093",
   "metadata": {},
   "outputs": [],
   "source": [
    "# https://www.geeksforgeeks.org/python/python-os-path-join-method/ \n",
    "import os"
   ]
  },
  {
   "cell_type": "code",
   "execution_count": 2,
   "id": "0fa4a176",
   "metadata": {},
   "outputs": [],
   "source": [
    "# for naming a file using a date or time, see: https://www.geeksforgeeks.org/python/how-to-create-filename-containing-date-or-time-in-python/\n",
    "from datetime import datetime "
   ]
  },
  {
   "cell_type": "code",
   "execution_count": 3,
   "id": "b3b95951",
   "metadata": {},
   "outputs": [
    {
     "name": "stdout",
     "output_type": "stream",
     "text": [
      "20251014-201416\n"
     ]
    }
   ],
   "source": [
    "# practice getting the right filename - delete this later on\n",
    "current_datetime = datetime.now().strftime(\"%Y%m%d-%H%M%S\")\n",
    "print(current_datetime)"
   ]
  },
  {
   "cell_type": "code",
   "execution_count": 12,
   "id": "2e223f01",
   "metadata": {},
   "outputs": [],
   "source": [
    "# create a function as per https://www.geeksforgeeks.org/python/python-functions/ \n",
    "def get_data():\n",
    "    # Access multiple tickers as per documentation (https://ranaroussi.github.io/yfinance/reference/index.html).\n",
    "    # adapted code on importing historical data from here: https://rowzero.io/blog/yfinance \n",
    "    # specific valid intervals found here: https://medium.com/@anjalivemuri97/day-4-fetching-historical-stock-data-with-yfinance-f45f3bd8b9c6 \n",
    "    data = yf.download(\"META AAPL AMZN NFLX GOOG\", group_by='tickers', period=\"5d\", interval='1h')\n",
    "\n",
    "    #create the time stamp that can dynamically name the file. See: https://www.geeksforgeeks.org/python/how-to-create-filename-containing-date-or-time-in-python/\n",
    "    current_datetime = datetime.now().strftime(\"%Y%m%d-%H%M%S\")\n",
    "\n",
    "    # convert the output into a string\n",
    "    current_datetime_str = str(current_datetime)\n",
    "\n",
    "    # name the file with .csv extension\n",
    "    file_name = current_datetime_str+\".csv\"\n",
    "\n",
    "    # create a folder - importantly - in the current working directory, not just in your codespace area - see: https://www.w3schools.com/python/ref_os_getcwd.asp \n",
    "    dir = os.path.join(os.getcwd(), \"data\")\n",
    "\n",
    "    # create a path using os path join which concatenates the file path and the filename and saves it to file_path (see: https://blog.finxter.com/how-to-save-a-text-file-to-another-folder-in-python/)\n",
    "    file_path = os.path.join(dir, file_name)\n",
    "    \n",
    "    data.to_csv(file_path)\n",
    "    "
   ]
  },
  {
   "cell_type": "code",
   "execution_count": 5,
   "id": "2b4acdbf",
   "metadata": {},
   "outputs": [],
   "source": [
    "# print the data\n",
    "#print(data)"
   ]
  }
 ],
 "metadata": {
  "kernelspec": {
   "display_name": "Python 3",
   "language": "python",
   "name": "python3"
  },
  "language_info": {
   "codemirror_mode": {
    "name": "ipython",
    "version": 3
   },
   "file_extension": ".py",
   "mimetype": "text/x-python",
   "name": "python",
   "nbconvert_exporter": "python",
   "pygments_lexer": "ipython3",
   "version": "3.12.1"
  }
 },
 "nbformat": 4,
 "nbformat_minor": 5
}
