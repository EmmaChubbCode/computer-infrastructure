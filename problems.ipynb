{
 "cells": [
  {
   "cell_type": "markdown",
   "id": "bab12eae",
   "metadata": {},
   "source": [
    "# Assessment for Computer Infrastructure"
   ]
  },
  {
   "cell_type": "markdown",
   "id": "1ef31c70",
   "metadata": {},
   "source": [
    "## Problem 1: \n",
    "### Using the yfinance Python package, write a function called get_data() that downloads all hourly data for the previous five days for the five FAANG stocks."
   ]
  },
  {
   "cell_type": "markdown",
   "id": "b14f16c0",
   "metadata": {},
   "source": [
    "### As a first step, I created a folder called 'data' in my repository using the mkdir command in the terminal. See: https://how.dev/answers/how-to-add-a-folder-to-a-repository-in-github "
   ]
  },
  {
   "cell_type": "code",
   "execution_count": null,
   "id": "b3caccd1",
   "metadata": {},
   "outputs": [],
   "source": [
    "# Yahoo Finance data.\n",
    "import yfinance as yf\n"
   ]
  },
  {
   "cell_type": "code",
   "execution_count": null,
   "id": "e166c093",
   "metadata": {},
   "outputs": [],
   "source": [
    "# https://www.geeksforgeeks.org/python/python-os-path-join-method/ \n",
    "import os"
   ]
  },
  {
   "cell_type": "code",
   "execution_count": 2,
   "id": "0fa4a176",
   "metadata": {},
   "outputs": [],
   "source": [
    "# for naming a file using a date or time, see: https://www.geeksforgeeks.org/python/how-to-create-filename-containing-date-or-time-in-python/\n",
    "from datetime import datetime "
   ]
  },
  {
   "cell_type": "code",
   "execution_count": 3,
   "id": "b3b95951",
   "metadata": {},
   "outputs": [
    {
     "name": "stdout",
     "output_type": "stream",
     "text": [
      "20251014-201416\n"
     ]
    }
   ],
   "source": [
    "# practice getting the right filename - delete this later on\n",
    "current_datetime = datetime.now().strftime(\"%Y%m%d-%H%M%S\")\n",
    "print(current_datetime)"
   ]
  },
  {
   "cell_type": "code",
   "execution_count": 13,
   "id": "2e223f01",
   "metadata": {},
   "outputs": [],
   "source": [
    "# create a function as per https://www.geeksforgeeks.org/python/python-functions/ \n",
    "def get_data():\n",
    "    # Access multiple tickers as per documentation (https://ranaroussi.github.io/yfinance/reference/index.html).\n",
    "    # adapted code on importing historical data from here: https://rowzero.io/blog/yfinance \n",
    "    # specific valid intervals found here: https://medium.com/@anjalivemuri97/day-4-fetching-historical-stock-data-with-yfinance-f45f3bd8b9c6 \n",
    "    data = yf.download(\"META AAPL AMZN NFLX GOOG\", group_by='tickers', period=\"5d\", interval='1h')\n",
    "\n",
    "    #create the time stamp that can dynamically name the file. See: https://www.geeksforgeeks.org/python/how-to-create-filename-containing-date-or-time-in-python/\n",
    "    current_datetime = datetime.now().strftime(\"%Y%m%d-%H%M%S\")\n",
    "\n",
    "    # convert the output into a string\n",
    "    current_datetime_str = str(current_datetime)\n",
    "\n",
    "    # name the file with .csv extension\n",
    "    file_name = current_datetime_str+\".csv\"\n",
    "\n",
    "    # create a folder - importantly - in the current working directory, not just in your codespace area - see: https://www.w3schools.com/python/ref_os_getcwd.asp \n",
    "    dir = os.path.join(os.getcwd(), \"data\")\n",
    "    os.mkdir(dir)\n",
    "\n",
    "    # create a path using os path join which concatenates the file path and the filename and saves it to file_path (see: https://blog.finxter.com/how-to-save-a-text-file-to-another-folder-in-python/)\n",
    "    file_path = os.path.join(dir, file_name)\n",
    "    \n",
    "    data.to_csv(file_path)\n",
    "    "
   ]
  },
  {
   "cell_type": "code",
   "execution_count": 14,
   "id": "ae36ab83",
   "metadata": {},
   "outputs": [
    {
     "name": "stderr",
     "output_type": "stream",
     "text": [
      "/tmp/ipykernel_3664/135878042.py:6: FutureWarning: YF.download() has changed argument auto_adjust default to True\n",
      "  data = yf.download(\"META AAPL AMZN NFLX GOOG\", group_by='tickers', period=\"5d\", interval='1h')\n",
      "[*********************100%***********************]  5 of 5 completed\n"
     ]
    },
    {
     "ename": "FileExistsError",
     "evalue": "[Errno 17] File exists: '/workspaces/computer-infrastructure/data'",
     "output_type": "error",
     "traceback": [
      "\u001b[31m---------------------------------------------------------------------------\u001b[39m",
      "\u001b[31mFileExistsError\u001b[39m                           Traceback (most recent call last)",
      "\u001b[36mCell\u001b[39m\u001b[36m \u001b[39m\u001b[32mIn[14]\u001b[39m\u001b[32m, line 2\u001b[39m\n\u001b[32m      1\u001b[39m \u001b[38;5;66;03m# run the function\u001b[39;00m\n\u001b[32m----> \u001b[39m\u001b[32m2\u001b[39m \u001b[43mget_data\u001b[49m\u001b[43m(\u001b[49m\u001b[43m)\u001b[49m\n",
      "\u001b[36mCell\u001b[39m\u001b[36m \u001b[39m\u001b[32mIn[13]\u001b[39m\u001b[32m, line 19\u001b[39m, in \u001b[36mget_data\u001b[39m\u001b[34m()\u001b[39m\n\u001b[32m     17\u001b[39m \u001b[38;5;66;03m# create a folder - importantly - in the current working directory, not just in your codespace area - see: https://www.w3schools.com/python/ref_os_getcwd.asp \u001b[39;00m\n\u001b[32m     18\u001b[39m \u001b[38;5;28mdir\u001b[39m = os.path.join(os.getcwd(), \u001b[33m\"\u001b[39m\u001b[33mdata\u001b[39m\u001b[33m\"\u001b[39m)\n\u001b[32m---> \u001b[39m\u001b[32m19\u001b[39m \u001b[43mos\u001b[49m\u001b[43m.\u001b[49m\u001b[43mmkdir\u001b[49m\u001b[43m(\u001b[49m\u001b[38;5;28;43mdir\u001b[39;49m\u001b[43m)\u001b[49m\n\u001b[32m     21\u001b[39m \u001b[38;5;66;03m# create a path using os path join which concatenates the file path and the filename and saves it to file_path (see: https://blog.finxter.com/how-to-save-a-text-file-to-another-folder-in-python/)\u001b[39;00m\n\u001b[32m     22\u001b[39m file_path = os.path.join(\u001b[38;5;28mdir\u001b[39m, file_name)\n",
      "\u001b[31mFileExistsError\u001b[39m: [Errno 17] File exists: '/workspaces/computer-infrastructure/data'"
     ]
    }
   ],
   "source": [
    "# run the function\n",
    "get_data()"
   ]
  },
  {
   "cell_type": "code",
   "execution_count": 5,
   "id": "2b4acdbf",
   "metadata": {},
   "outputs": [],
   "source": [
    "# print the data\n",
    "#print(data)"
   ]
  }
 ],
 "metadata": {
  "kernelspec": {
   "display_name": "Python 3",
   "language": "python",
   "name": "python3"
  },
  "language_info": {
   "codemirror_mode": {
    "name": "ipython",
    "version": 3
   },
   "file_extension": ".py",
   "mimetype": "text/x-python",
   "name": "python",
   "nbconvert_exporter": "python",
   "pygments_lexer": "ipython3",
   "version": "3.12.1"
  }
 },
 "nbformat": 4,
 "nbformat_minor": 5
}
